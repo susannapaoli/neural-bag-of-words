{
 "cells": [
  {
   "cell_type": "markdown",
   "id": "ypBaFfRl8229",
   "metadata": {
    "id": "ypBaFfRl8229"
   },
   "source": [
    "**CS 4650 \"Natural Language Processing\" - Project 1**  \n",
    "Georgia Tech, Spring 2023 \n",
    "\n",
    "(Instructor: Wei Xu; TAs: Mounica Maddela, Ben Podrazhansky, Marcus Ma, Rahul Katre)\n"
   ]
  },
  {
   "cell_type": "markdown",
   "id": "JnnwupedFEIV",
   "metadata": {
    "id": "JnnwupedFEIV"
   },
   "source": [
    "### Part 0. Google Colab Setup"
   ]
  },
  {
   "cell_type": "markdown",
   "id": "SiFjTT4jFEIW",
   "metadata": {
    "id": "SiFjTT4jFEIW"
   },
   "source": [
    "Welcome to the first full programming project for CS 4650! If you're new to Google Colab we recommend looking at [this](https://colab.research.google.com/notebooks/basic_features_overview.ipynb) intro notebook before getting started with this project. In short, Colab is a Jupyter notebook environment that runs in the cloud, it's recommended for all of the programming projects in this course due to its availability, ease of use, and hardware accessibility. Some features that you may find especially useful are on the left hand side, these being:\n",
    "\n",
    "*   Table of contents: displays the sections of the notebook made using text cells\n",
    "*   Variables: useful for debugging and see current values of variables\n",
    "*   Files: useful or uploading or downloading any files you upload to Colab or write while working on the projects\n",
    "\n",
    "\n",
    "\n",
    "**To begin this project, make a copy of this notebook and save it to your local drive so that you can edit it.**\n",
    "\n",
    "\n",
    "If you want GPU's (which will improve training times), you can always change your instance type to GPU by going to Runtime -> Change runtime type -> Hardware accelerator.\n",
    "\n",
    "If you're new to PyTorch, or simply want a refresher, we recommend you start by looking through these [Introduction to PyTorch](https://cocoxu.github.io/CS4650_spring2022/slides/PyTorch_tutorial.pdf) slides and this interactive [PyTorch Basics notebook](http://bit.ly/pytorchbasics). Additionally, this [Text Sentiment](http://bit.ly/pytorchexample) notebook will provide some insight into working with PyTorch for NLP specific problems. "
   ]
  },
  {
   "cell_type": "markdown",
   "id": "ZRdPqeMMFEIY",
   "metadata": {
    "id": "ZRdPqeMMFEIY"
   },
   "source": [
    "### Part 1. Loading and Preprocessing Data [10 points]\n",
    "The following cell loads the OnionOrNot dataset, and tokenizes each data item"
   ]
  },
  {
   "cell_type": "code",
   "execution_count": 28,
   "id": "YmV_uknBJA-o",
   "metadata": {
    "colab": {
     "base_uri": "https://localhost:8080/"
    },
    "id": "YmV_uknBJA-o",
    "outputId": "ad0ade4e-6143-4e56-a389-c7aa0ec390b6"
   },
   "outputs": [
    {
     "name": "stdout",
     "output_type": "stream",
     "text": [
      "  % Total    % Received % Xferd  Average Speed   Time    Time     Time  Current\n",
      "                                 Dload  Upload   Total   Spent    Left  Speed\n",
      "100 1903k  100 1903k    0     0  6099k      0 --:--:-- --:--:-- --:--:-- 6080k\n"
     ]
    }
   ],
   "source": [
    "!curl https://raw.githubusercontent.com/lukefeilberg/onion/master/OnionOrNot.csv > OnionOrNot.csv"
   ]
  },
  {
   "cell_type": "code",
   "execution_count": 29,
   "id": "L3DkMDu7FEIZ",
   "metadata": {
    "id": "L3DkMDu7FEIZ"
   },
   "outputs": [],
   "source": [
    "# DO NOT MODIFY #\n",
    "import torch\n",
    "import random\n",
    "import numpy as np\n",
    "\n",
    "RANDOM_SEED = 42\n",
    "torch.manual_seed(RANDOM_SEED)\n",
    "random.seed(RANDOM_SEED)\n",
    "np.random.seed(RANDOM_SEED)\n",
    "\n",
    "# this is how we select a GPU if it's avalible on your computer or in the Colab environment.\n",
    "device = torch.device('cuda' if torch.cuda.is_available() else 'cpu')"
   ]
  },
  {
   "cell_type": "markdown",
   "id": "0Fulh0MZ8y8b",
   "metadata": {
    "id": "0Fulh0MZ8y8b"
   },
   "source": [
    "#### Part 1.1 Preprocessing definitions:\n",
    "The following cell define some methods to clean the dataset. Do not edit it, but feel free to take a look at some of the operations it's doing. \n"
   ]
  },
  {
   "cell_type": "code",
   "execution_count": 30,
   "id": "ctNnE1Ui8oKw",
   "metadata": {
    "id": "ctNnE1Ui8oKw"
   },
   "outputs": [],
   "source": [
    "# DO NOT MODIFY THIS BLOCK\n",
    "# example code taken from fast-bert\n",
    "\n",
    "import re\n",
    "import html\n",
    "\n",
    "def spec_add_spaces(t: str) -> str:\n",
    "    \"Add spaces around / and # in `t`. \\n\"\n",
    "    return re.sub(r\"([/#\\n])\", r\" \\1 \", t)\n",
    "\n",
    "def rm_useless_spaces(t: str) -> str:\n",
    "    \"Remove multiple spaces in `t`.\"\n",
    "    return re.sub(\" {2,}\", \" \", t)\n",
    "\n",
    "def replace_multi_newline(t: str) -> str:\n",
    "    return re.sub(r\"(\\n(\\s)*){2,}\", \"\\n\", t)\n",
    "\n",
    "def fix_html(x: str) -> str:\n",
    "    \"List of replacements from html strings in `x`.\"\n",
    "    re1 = re.compile(r\"  +\")\n",
    "    x = (\n",
    "        x.replace(\"#39;\", \"'\")\n",
    "        .replace(\"amp;\", \"&\")\n",
    "        .replace(\"#146;\", \"'\")\n",
    "        .replace(\"nbsp;\", \" \")\n",
    "        .replace(\"#36;\", \"$\")\n",
    "        .replace(\"\\\\n\", \"\\n\")\n",
    "        .replace(\"quot;\", \"'\")\n",
    "        .replace(\"<br />\", \"\\n\")\n",
    "        .replace('\\\\\"', '\"')\n",
    "        .replace(\" @.@ \", \".\")\n",
    "        .replace(\" @-@ \", \"-\")\n",
    "        .replace(\" @,@ \", \",\")\n",
    "        .replace(\"\\\\\", \" \\\\ \")\n",
    "    )\n",
    "    return re1.sub(\" \", html.unescape(x))\n",
    "\n",
    "def clean_text(input_text):\n",
    "    text = fix_html(input_text)\n",
    "    text = replace_multi_newline(text)\n",
    "    text = spec_add_spaces(text)\n",
    "    text = rm_useless_spaces(text)\n",
    "    text = text.strip()\n",
    "    return text"
   ]
  },
  {
   "cell_type": "markdown",
   "id": "MiUlTSBB9Wx6",
   "metadata": {
    "id": "MiUlTSBB9Wx6"
   },
   "source": [
    "#### Part 1.2 Clean the data using the methods above and tokenize it using NLTK"
   ]
  },
  {
   "cell_type": "code",
   "execution_count": 31,
   "id": "vqtdrhF8FEIZ",
   "metadata": {
    "colab": {
     "base_uri": "https://localhost:8080/"
    },
    "id": "vqtdrhF8FEIZ",
    "outputId": "364a5d6d-740f-4348-9f35-f70bc83df456"
   },
   "outputs": [
    {
     "name": "stderr",
     "output_type": "stream",
     "text": [
      "[nltk_data] Downloading package punkt to /root/nltk_data...\n",
      "[nltk_data]   Package punkt is already up-to-date!\n"
     ]
    }
   ],
   "source": [
    "import pandas as pd\n",
    "import nltk\n",
    "from tqdm import tqdm\n",
    "\n",
    "nltk.download('punkt')\n",
    "df              = pd.read_csv(\"OnionOrNot.csv\")\n",
    "df[\"tokenized\"] = df[\"text\"].apply(lambda x: nltk.word_tokenize(clean_text(x.lower())))"
   ]
  },
  {
   "cell_type": "markdown",
   "id": "qBBdVOYxFEIa",
   "metadata": {
    "id": "qBBdVOYxFEIa"
   },
   "source": [
    "Here's what the dataset looks like. You can index into specific rows with pandas, and try to guess some of these yourself :). If you're unfamiliar with pandas, it's a extremely useful and popular library for data analysis and manipulation. You can find their documentation [here](https://pandas.pydata.org/docs/). \n",
    "\n",
    "Pandas primary data structure is a DataFrame. The following cell will print out the basic information of this structure, including the labeled axes (both columns and rows) as well as show you what the first n (default=5) rows look like"
   ]
  },
  {
   "cell_type": "code",
   "execution_count": 32,
   "id": "sJjScqV3FEIb",
   "metadata": {
    "colab": {
     "base_uri": "https://localhost:8080/",
     "height": 206
    },
    "id": "sJjScqV3FEIb",
    "outputId": "6e907db8-137f-45c9-f1c5-3dec5364a1c5"
   },
   "outputs": [
    {
     "data": {
      "text/html": [
       "\n",
       "  <div id=\"df-dad68391-c0db-4fb4-8cf5-5413e20262aa\">\n",
       "    <div class=\"colab-df-container\">\n",
       "      <div>\n",
       "<style scoped>\n",
       "    .dataframe tbody tr th:only-of-type {\n",
       "        vertical-align: middle;\n",
       "    }\n",
       "\n",
       "    .dataframe tbody tr th {\n",
       "        vertical-align: top;\n",
       "    }\n",
       "\n",
       "    .dataframe thead th {\n",
       "        text-align: right;\n",
       "    }\n",
       "</style>\n",
       "<table border=\"1\" class=\"dataframe\">\n",
       "  <thead>\n",
       "    <tr style=\"text-align: right;\">\n",
       "      <th></th>\n",
       "      <th>text</th>\n",
       "      <th>label</th>\n",
       "      <th>tokenized</th>\n",
       "    </tr>\n",
       "  </thead>\n",
       "  <tbody>\n",
       "    <tr>\n",
       "      <th>0</th>\n",
       "      <td>Entire Facebook Staff Laughs As Man Tightens P...</td>\n",
       "      <td>1</td>\n",
       "      <td>[entire, facebook, staff, laughs, as, man, tig...</td>\n",
       "    </tr>\n",
       "    <tr>\n",
       "      <th>1</th>\n",
       "      <td>Muslim Woman Denied Soda Can for Fear She Coul...</td>\n",
       "      <td>0</td>\n",
       "      <td>[muslim, woman, denied, soda, can, for, fear, ...</td>\n",
       "    </tr>\n",
       "    <tr>\n",
       "      <th>2</th>\n",
       "      <td>Bold Move: Hulu Has Announced That They’re Gon...</td>\n",
       "      <td>1</td>\n",
       "      <td>[bold, move, :, hulu, has, announced, that, th...</td>\n",
       "    </tr>\n",
       "    <tr>\n",
       "      <th>3</th>\n",
       "      <td>Despondent Jeff Bezos Realizes He’ll Have To W...</td>\n",
       "      <td>1</td>\n",
       "      <td>[despondent, jeff, bezos, realizes, he, ’, ll,...</td>\n",
       "    </tr>\n",
       "    <tr>\n",
       "      <th>4</th>\n",
       "      <td>For men looking for great single women, online...</td>\n",
       "      <td>1</td>\n",
       "      <td>[for, men, looking, for, great, single, women,...</td>\n",
       "    </tr>\n",
       "  </tbody>\n",
       "</table>\n",
       "</div>\n",
       "      <button class=\"colab-df-convert\" onclick=\"convertToInteractive('df-dad68391-c0db-4fb4-8cf5-5413e20262aa')\"\n",
       "              title=\"Convert this dataframe to an interactive table.\"\n",
       "              style=\"display:none;\">\n",
       "        \n",
       "  <svg xmlns=\"http://www.w3.org/2000/svg\" height=\"24px\"viewBox=\"0 0 24 24\"\n",
       "       width=\"24px\">\n",
       "    <path d=\"M0 0h24v24H0V0z\" fill=\"none\"/>\n",
       "    <path d=\"M18.56 5.44l.94 2.06.94-2.06 2.06-.94-2.06-.94-.94-2.06-.94 2.06-2.06.94zm-11 1L8.5 8.5l.94-2.06 2.06-.94-2.06-.94L8.5 2.5l-.94 2.06-2.06.94zm10 10l.94 2.06.94-2.06 2.06-.94-2.06-.94-.94-2.06-.94 2.06-2.06.94z\"/><path d=\"M17.41 7.96l-1.37-1.37c-.4-.4-.92-.59-1.43-.59-.52 0-1.04.2-1.43.59L10.3 9.45l-7.72 7.72c-.78.78-.78 2.05 0 2.83L4 21.41c.39.39.9.59 1.41.59.51 0 1.02-.2 1.41-.59l7.78-7.78 2.81-2.81c.8-.78.8-2.07 0-2.86zM5.41 20L4 18.59l7.72-7.72 1.47 1.35L5.41 20z\"/>\n",
       "  </svg>\n",
       "      </button>\n",
       "      \n",
       "  <style>\n",
       "    .colab-df-container {\n",
       "      display:flex;\n",
       "      flex-wrap:wrap;\n",
       "      gap: 12px;\n",
       "    }\n",
       "\n",
       "    .colab-df-convert {\n",
       "      background-color: #E8F0FE;\n",
       "      border: none;\n",
       "      border-radius: 50%;\n",
       "      cursor: pointer;\n",
       "      display: none;\n",
       "      fill: #1967D2;\n",
       "      height: 32px;\n",
       "      padding: 0 0 0 0;\n",
       "      width: 32px;\n",
       "    }\n",
       "\n",
       "    .colab-df-convert:hover {\n",
       "      background-color: #E2EBFA;\n",
       "      box-shadow: 0px 1px 2px rgba(60, 64, 67, 0.3), 0px 1px 3px 1px rgba(60, 64, 67, 0.15);\n",
       "      fill: #174EA6;\n",
       "    }\n",
       "\n",
       "    [theme=dark] .colab-df-convert {\n",
       "      background-color: #3B4455;\n",
       "      fill: #D2E3FC;\n",
       "    }\n",
       "\n",
       "    [theme=dark] .colab-df-convert:hover {\n",
       "      background-color: #434B5C;\n",
       "      box-shadow: 0px 1px 3px 1px rgba(0, 0, 0, 0.15);\n",
       "      filter: drop-shadow(0px 1px 2px rgba(0, 0, 0, 0.3));\n",
       "      fill: #FFFFFF;\n",
       "    }\n",
       "  </style>\n",
       "\n",
       "      <script>\n",
       "        const buttonEl =\n",
       "          document.querySelector('#df-dad68391-c0db-4fb4-8cf5-5413e20262aa button.colab-df-convert');\n",
       "        buttonEl.style.display =\n",
       "          google.colab.kernel.accessAllowed ? 'block' : 'none';\n",
       "\n",
       "        async function convertToInteractive(key) {\n",
       "          const element = document.querySelector('#df-dad68391-c0db-4fb4-8cf5-5413e20262aa');\n",
       "          const dataTable =\n",
       "            await google.colab.kernel.invokeFunction('convertToInteractive',\n",
       "                                                     [key], {});\n",
       "          if (!dataTable) return;\n",
       "\n",
       "          const docLinkHtml = 'Like what you see? Visit the ' +\n",
       "            '<a target=\"_blank\" href=https://colab.research.google.com/notebooks/data_table.ipynb>data table notebook</a>'\n",
       "            + ' to learn more about interactive tables.';\n",
       "          element.innerHTML = '';\n",
       "          dataTable['output_type'] = 'display_data';\n",
       "          await google.colab.output.renderOutput(dataTable, element);\n",
       "          const docLink = document.createElement('div');\n",
       "          docLink.innerHTML = docLinkHtml;\n",
       "          element.appendChild(docLink);\n",
       "        }\n",
       "      </script>\n",
       "    </div>\n",
       "  </div>\n",
       "  "
      ],
      "text/plain": [
       "                                                text  label  \\\n",
       "0  Entire Facebook Staff Laughs As Man Tightens P...      1   \n",
       "1  Muslim Woman Denied Soda Can for Fear She Coul...      0   \n",
       "2  Bold Move: Hulu Has Announced That They’re Gon...      1   \n",
       "3  Despondent Jeff Bezos Realizes He’ll Have To W...      1   \n",
       "4  For men looking for great single women, online...      1   \n",
       "\n",
       "                                           tokenized  \n",
       "0  [entire, facebook, staff, laughs, as, man, tig...  \n",
       "1  [muslim, woman, denied, soda, can, for, fear, ...  \n",
       "2  [bold, move, :, hulu, has, announced, that, th...  \n",
       "3  [despondent, jeff, bezos, realizes, he, ’, ll,...  \n",
       "4  [for, men, looking, for, great, single, women,...  "
      ]
     },
     "execution_count": 32,
     "metadata": {},
     "output_type": "execute_result"
    }
   ],
   "source": [
    "df.head()"
   ]
  },
  {
   "cell_type": "markdown",
   "id": "D9b4W9z1XhgS",
   "metadata": {
    "id": "D9b4W9z1XhgS"
   },
   "source": [
    "DataFrames can be indexed using [.iloc\\[ ]](https://pandas.pydata.org/docs/reference/api/pandas.DataFrame.iloc.html), this primarily uses interger based indexing and supports a single integer (i.e. 42), a list of integers (i.e. [1, 5, 42]), or even a slice (i.e. 7:42). "
   ]
  },
  {
   "cell_type": "code",
   "execution_count": 33,
   "id": "Ntm8laX6FEIb",
   "metadata": {
    "colab": {
     "base_uri": "https://localhost:8080/"
    },
    "id": "Ntm8laX6FEIb",
    "outputId": "fd82b38b-a632-4ceb-a3ae-e33a9ebd5af9"
   },
   "outputs": [
    {
     "data": {
      "text/plain": [
       "text         Customers continued to wait at drive-thru even...\n",
       "label                                                        0\n",
       "tokenized    [customers, continued, to, wait, at, drive-thr...\n",
       "Name: 42, dtype: object"
      ]
     },
     "execution_count": 33,
     "metadata": {},
     "output_type": "execute_result"
    }
   ],
   "source": [
    "df.iloc[42]"
   ]
  },
  {
   "cell_type": "markdown",
   "id": "TQVT6HUA9htQ",
   "metadata": {
    "id": "TQVT6HUA9htQ"
   },
   "source": [
    "#### Part 1.3 Split the dataset into training, validation, and testing"
   ]
  },
  {
   "cell_type": "markdown",
   "id": "GDI72x8XFEIc",
   "metadata": {
    "id": "GDI72x8XFEIc"
   },
   "source": [
    "Now that we've loaded this dataset, we need to split the data into train, validation, and test sets. A good explanation of why we need these different sets can be found in subsection 2.2.5 of [Eisenstein](https://github.com/jacobeisenstein/gt-nlp-class/blob/master/notes/eisenstein-nlp-notes.pdf) but at the end it comes down to having a trustworthy and generalized model. The validation (sometimes called a development or tuning) set is used to help choose hyperparameters for our model, whereas the training set is used to fit the learned parameters (weights and biases) to the task. The test set is used to provide a final unbiased evaluation of our trained model, hopefully providing some insight into how it would actually do in production. Each of these sets should be disjoint from the others, to prevent any \"peeking\" that could unfairly influence our understanding of the model's accuracy. \n",
    "\n",
    "In addition to these different sets of data, we also need to create a vocab map for words in our Onion dataset, which will map tokens to numbers. This will be useful later, since torch PyTorch use tensors of sequences of numbers as inputs. **Go to the following cell, and fill out split_train_val_test and generate_vocab_map.**"
   ]
  },
  {
   "cell_type": "code",
   "execution_count": 34,
   "id": "zeo9kX6i9pbH",
   "metadata": {
    "id": "zeo9kX6i9pbH"
   },
   "outputs": [],
   "source": [
    "# BEGIN - DO NOT CHANGE THESE IMPORTS/CONSTANTS OR IMPORT ADDITIONAL PACKAGES.\n",
    "from collections import Counter\n",
    "PADDING_VALUE = 0\n",
    "UNK_VALUE     = 1\n",
    "# END - DO NOT CHANGE THESE IMPORTS/CONSTANTS OR IMPORT ADDITIONAL PACKAGES.\n",
    "\n",
    "\n",
    "# split_train_val_test\n",
    "# This method takes a dataframe and splits it into train/val/test splits.\n",
    "# It uses the props argument to split the dataset appropriately.\n",
    "#\n",
    "# args:\n",
    "# df - the entire dataset DataFrame \n",
    "# props - proportions for each split in the order of [train, validation, test]. \n",
    "#         the last value of the props array is repetitive, but we've kept it for clarity.\n",
    "#\n",
    "# returns: \n",
    "# train DataFrame, val DataFrame, test DataFrame\n",
    "#\n",
    "def split_train_val_test(df, props=[.8, .1, .1]):\n",
    "    assert round(sum(props), 2) == 1 and len(props) >= 2\n",
    "    train_df, test_df, val_df = None, None, None\n",
    "    \n",
    "    ## YOUR CODE STARTS HERE (~3-5 lines of code) ##\n",
    "    # hint: you can use df.iloc to slice into specific indexes or ranges.\n",
    "    a, b, c = props[0], props[1], props[2]\n",
    "    d, e, f = int(len(df) * a), int(len(df)*b), int(len(df)*c) \n",
    "    train_df = df.iloc[:d]\n",
    "    val_df = df.iloc[d:d+e]\n",
    "    test_df = df.iloc[d+e:d+e+f]\n",
    "    \n",
    "    ## YOUR CODE ENDS HERE ##\n",
    "    \n",
    "    return train_df, val_df, test_df\n",
    "\n",
    "# generate_vocab_map\n",
    "# This method takes a dataframe and builds a vocabulary to unique number map.\n",
    "# It uses the cutoff argument to remove rare words occuring <= cutoff times. \n",
    "# *NOTE*: \"\" and \"UNK\" are reserved tokens in our vocab that will be useful\n",
    "# later. You'll also find the Counter imported for you to be useful as well.\n",
    "# \n",
    "# args:\n",
    "# df     - the entire dataset this mapping is built from \n",
    "# cutoff - we exclude words from the vocab that appear less than or\n",
    "#          eq to cutoff\n",
    "#\n",
    "# returns: \n",
    "# vocab - dict[str] = int\n",
    "#         In vocab, each str is a unique token, and each dict[str] is a \n",
    "#         unique integer ID. Only elements that appear > cutoff times appear\n",
    "#         in vocab.\n",
    "#\n",
    "# reversed_vocab - dict[int] = str\n",
    "#                  A reversed version of vocab, which allows us to retrieve \n",
    "#                  words given their unique integer ID. This map will \n",
    "#                  allow us to \"decode\" integer sequences we'll encode using\n",
    "#                  vocab!\n",
    "# \n",
    "def generate_vocab_map(df, cutoff=2):\n",
    "    vocab          = {\"\": PADDING_VALUE, \"UNK\": UNK_VALUE}\n",
    "    reversed_vocab = None\n",
    "    \n",
    "    ## YOUR CODE STARTS HERE (~5-15 lines of code) ##\n",
    "    # hint: start by iterating over df[\"tokenized\"]\n",
    "    tokens = []\n",
    "    for sentence in df['tokenized']:\n",
    "      for token in sentence:\n",
    "        tokens.append(token)\n",
    "    \n",
    "    counter = Counter(tokens)\n",
    "    id = 2\n",
    "    for i in counter:\n",
    "      if counter[i] > cutoff: \n",
    "        vocab[i] = id\n",
    "      \n",
    "        id += 1\n",
    "    reversed_vocab = {id: token for token, id in vocab.items()}\n",
    "    \n",
    "    ## YOUR CODE ENDS HERE ##\n",
    "    \n",
    "    return vocab, reversed_vocab"
   ]
  },
  {
   "cell_type": "markdown",
   "id": "w9LEk83hRFgT",
   "metadata": {
    "id": "w9LEk83hRFgT"
   },
   "source": [
    "With the methods you have implemented above, we can now split the dataset into training, validation, and testing sets and generate our dictionaries mapping from word tokens to IDs (and vice versa). \n",
    "\n",
    "Note: The props list currently being used splits the dataset so that 80% of samples are used to train, and the remaining 20% are evenly split between training and validation. How you split your dataset is itself a major choice and something you would need to consider in your own projects. Can you think of why?"
   ]
  },
  {
   "cell_type": "code",
   "execution_count": 35,
   "id": "rcmX931OFEId",
   "metadata": {
    "id": "rcmX931OFEId"
   },
   "outputs": [],
   "source": [
    "df                         = df.sample(frac=1)\n",
    "train_df, val_df, test_df  = split_train_val_test(df, props=[.8, .1, .1])\n",
    "train_vocab, reverse_vocab = generate_vocab_map(train_df)"
   ]
  },
  {
   "cell_type": "code",
   "execution_count": 36,
   "id": "CAACzA8YFEId",
   "metadata": {
    "colab": {
     "base_uri": "https://localhost:8080/"
    },
    "id": "CAACzA8YFEId",
    "outputId": "d1779b62-a0ea-46f2-dea2-f806b87600bd"
   },
   "outputs": [
    {
     "data": {
      "text/plain": [
       "(0.8, 0.1, 0.1)"
      ]
     },
     "execution_count": 36,
     "metadata": {},
     "output_type": "execute_result"
    }
   ],
   "source": [
    "# This line of code will help test your implementation, the expected output is the same distribution used in 'props'\n",
    "#   in the above cell. Try out some different values to ensure it works, but for submission ensure you use \n",
    "#   [.8, .1, .1] \n",
    "\n",
    "(len(train_df) / len(df)), (len(val_df) / len(df)), (len(test_df) / len(df))"
   ]
  },
  {
   "cell_type": "markdown",
   "id": "5fCFfEHv1hnI",
   "metadata": {
    "id": "5fCFfEHv1hnI"
   },
   "source": [
    "#### Part 1.4 Building a Dataset Class"
   ]
  },
  {
   "cell_type": "markdown",
   "id": "8-qTQQa2FEIe",
   "metadata": {
    "id": "8-qTQQa2FEIe"
   },
   "source": [
    "PyTorch has custom Dataset Classes that have very useful extentions, we want to turn our current pandas DataFrame into a subclass of Dataset so that we can iterate and sample through it for minibatch updates. **In the following cell, fill out the HeadlineDataset class.** Refer to PyTorch documentation on [Dataset Classes](https://pytorch.org/tutorials/beginner/basics/data_tutorial.html) \n",
    "for help."
   ]
  },
  {
   "cell_type": "code",
   "execution_count": 37,
   "id": "tqt9q92J1QKK",
   "metadata": {
    "id": "tqt9q92J1QKK"
   },
   "outputs": [],
   "source": [
    "# BEGIN - DO NOT CHANGE THESE IMPORTS/CONSTANTS OR IMPORT ADDITIONAL PACKAGES.\n",
    "from torch.utils.data import Dataset\n",
    "# END - DO NOT CHANGE THESE IMPORTS/CONSTANTS OR IMPORT ADDITIONAL PACKAGES.\n",
    "\n",
    "# HeadlineDataset\n",
    "# This class takes a Pandas DataFrame and wraps in a Torch Dataset.\n",
    "# Read more about Torch Datasets here: \n",
    "# https://pytorch.org/tutorials/beginner/basics/data_tutorial.html\n",
    "# \n",
    "class HeadlineDataset(Dataset):\n",
    "    \n",
    "    # initialize this class with appropriate instance variables\n",
    "    def __init__(self, vocab, df, max_length=50):\n",
    "        # For this method: We would *strongly* recommend storing the dataframe \n",
    "        #                  itself as an instance variable, and keeping this method\n",
    "        #                  very simple. Leave processing to __getitem__. \n",
    "        #              \n",
    "        #                  Sometimes, however, it does make sense to preprocess in \n",
    "        #                  __init__. If you are curious as to why, read the aside at the \n",
    "        #                  bottom of this cell.\n",
    "        # \n",
    "        \n",
    "        ## YOUR CODE STARTS HERE (~3 lines of code) ##\n",
    "        self.df = df\n",
    "        self.vocab = vocab\n",
    "        self.max_length = max_length\n",
    "      \n",
    "        return \n",
    "        ## YOUR CODE ENDS HERE ##\n",
    "    \n",
    "    # return the length of the dataframe instance variable\n",
    "    def __len__(self):\n",
    "\n",
    "        df_len = None\n",
    "        ## YOUR CODE STARTS HERE (1 line of code) ##\n",
    "        df_len = len(self.df)\n",
    "        \n",
    "        ## YOUR CODE ENDS HERE ##\n",
    "        return df_len\n",
    "\n",
    "    # __getitem__\n",
    "    # \n",
    "    # Converts a dataframe row (row[\"tokenized\"]) to an encoded torch LongTensor,\n",
    "    # using our vocab map created using generate_vocab_map. Restricts the encoded \n",
    "    # headline length to max_length.\n",
    "    # \n",
    "    # The purpose of this method is to convert the row - a list of words - into\n",
    "    # a corresponding list of numbers.\n",
    "    #\n",
    "    # i.e. using a map of {\"hi\": 2, \"hello\": 3, \"UNK\": 0}\n",
    "    # this list [\"hi\", \"hello\", \"NOT_IN_DICT\"] will turn into [2, 3, 0]\n",
    "    #\n",
    "    # returns: \n",
    "    # tokenized_word_tensor - torch.LongTensor \n",
    "    #                         A 1D tensor of type Long, that has each\n",
    "    #                         token in the dataframe mapped to a number.\n",
    "    #                         These numbers are retrieved from the vocab_map\n",
    "    #                         we created in generate_vocab_map. \n",
    "    # \n",
    "    #                         **IMPORTANT**: if we filtered out the word \n",
    "    #                         because it's infrequent (and it doesn't exist \n",
    "    #                         in the vocab) we need to replace it w/ the UNK \n",
    "    #                         token\n",
    "    # \n",
    "    # curr_label            - int\n",
    "    #                         Binary 0/1 label retrieved from the DataFrame.\n",
    "    # \n",
    "    def __getitem__(self, index: int):\n",
    "        tokenized_word_tensor = None\n",
    "        curr_label            = None\n",
    "        ## YOUR CODE STARTS HERE (~3-7 lines of code) ##\n",
    "        tokens  = self.df['tokenized'].iloc[index] ## find the tokenized list for headline 'index'\n",
    "        curr_label = int(self.df['label'].iloc[index]) ## find the label for headline 'index'\n",
    "        tokenized_word_tensor = torch.LongTensor([self.vocab[key] if key in self.vocab.keys() else self.vocab['UNK'] for key in tokens][:self.max_length])\n",
    "\n",
    "        ## YOUR CODE ENDS HERE ##\n",
    "        return tokenized_word_tensor, curr_label\n",
    "\n",
    "\n",
    "\n",
    "#\n",
    "# Completely optional aside on preprocessing in __init__.\n",
    "# \n",
    "# Sometimes the compute bottleneck actually ends up being in __getitem__.\n",
    "# In this case, you'd loop over your dataset in __init__, passing data \n",
    "# to __getitem__ and storing it in another instance variable. Then,\n",
    "# you can simply return the preprocessed data in __getitem__ instead of\n",
    "# doing the preprocessing.\n",
    "# \n",
    "# There is a tradeoff though: can you think of one?\n",
    "# "
   ]
  },
  {
   "cell_type": "code",
   "execution_count": 38,
   "id": "KuLtIOAZFEIe",
   "metadata": {
    "id": "KuLtIOAZFEIe"
   },
   "outputs": [],
   "source": [
    "from torch.utils.data import RandomSampler\n",
    "\n",
    "train_dataset = HeadlineDataset(train_vocab, train_df)\n",
    "val_dataset   = HeadlineDataset(train_vocab, val_df)\n",
    "test_dataset  = HeadlineDataset(train_vocab, test_df)\n",
    "\n",
    "# Now that we're wrapping our dataframes in PyTorch datsets, we can make use of PyTorch Random Samplers, they'll\n",
    "#   define how our DataLoaders sample elements from the HeadlineDatasets  \n",
    "train_sampler = RandomSampler(train_dataset)\n",
    "val_sampler   = RandomSampler(val_dataset)\n",
    "test_sampler  = RandomSampler(test_dataset)"
   ]
  },
  {
   "cell_type": "markdown",
   "id": "n9iBiSKF1yXA",
   "metadata": {
    "id": "n9iBiSKF1yXA"
   },
   "source": [
    "#### Part 1.5 Finalizing our DataLoader"
   ]
  },
  {
   "cell_type": "markdown",
   "id": "lfXSbxoFFEIe",
   "metadata": {
    "id": "lfXSbxoFFEIe"
   },
   "source": [
    "We can now use PyTorch DataLoaders to batch our data for us. **In the following cell fill out collate_fn.** Refer to PyTorch documentation on [DataLoaders](https://pytorch.org/tutorials/beginner/basics/data_tutorial.html) for help."
   ]
  },
  {
   "cell_type": "code",
   "execution_count": 39,
   "id": "Zp1aQAvn1_mz",
   "metadata": {
    "id": "Zp1aQAvn1_mz"
   },
   "outputs": [],
   "source": [
    "# BEGIN - DO NOT CHANGE THESE IMPORTS/CONSTANTS OR IMPORT ADDITIONAL PACKAGES.\n",
    "from torch.nn.utils.rnn import pad_sequence\n",
    "# END - DO NOT CHANGE THESE IMPORTS/CONSTANTS OR IMPORT ADDITIONAL PACKAGES.\n",
    "\n",
    "# collate_fn\n",
    "# This function is passed as a parameter to Torch DataSampler. collate_fn collects\n",
    "# batched rows, in the form of tuples, from a DataLoader and applies some final \n",
    "# pre-processing.\n",
    "#\n",
    "# Objective:\n",
    "# In our case, we need to take the batched input array of 1D tokenized_word_tensors, \n",
    "# and create a 2D tensor that's padded to be the max length from all our tokenized_word_tensors \n",
    "# in a batch. We're moving from a Python array of tuples, to a padded 2D tensor. \n",
    "#\n",
    "# *HINT*: you're allowed to use torch.nn.utils.rnn.pad_sequence (ALREADY IMPORTED)\n",
    "# \n",
    "# Finally, you can read more about collate_fn here: https://pytorch.org/docs/stable/data.html\n",
    "#\n",
    "# args: \n",
    "# batch - PythonArray[tuple(tokenized_word_tensor: 1D Torch.LongTensor, curr_label: int)]\n",
    "#         len(batch) == BATCH_SIZE\n",
    "# \n",
    "# returns:\n",
    "# padded_tokens - 2D LongTensor of shape (BATCH_SIZE, max len of all tokenized_word_tensor))\n",
    "# y_labels      - 1D FloatTensor of shape (BATCH_SIZE)\n",
    "# \n",
    "def collate_fn(batch, padding_value=PADDING_VALUE):\n",
    "    padded_tokens, y_labels = None, None\n",
    "    ## YOUR CODE STARTS HERE (~4-8 lines of code) ##\n",
    "    y_labels = []\n",
    "    tokenized = []\n",
    "    for element in batch:\n",
    "      y_labels.append(element[1]) ## append the label for each element in the batch\n",
    "      tokenized.append(element[0]) ## append the tokenized word tensor for each element in the batch\n",
    "\n",
    "    padded_tokens = pad_sequence(tokenized, batch_first = True, padding_value = padding_value) \n",
    "    y_labels = torch.FloatTensor(y_labels)\n",
    "\n",
    "    ## YOUR CODE ENDS HERE ##\n",
    "    return padded_tokens, y_labels"
   ]
  },
  {
   "cell_type": "code",
   "execution_count": 40,
   "id": "OayoJRTeFEIf",
   "metadata": {
    "id": "OayoJRTeFEIf"
   },
   "outputs": [],
   "source": [
    "from torch.utils.data import DataLoader\n",
    "BATCH_SIZE = 16\n",
    "\n",
    "train_iterator = DataLoader(train_dataset, batch_size=BATCH_SIZE, sampler=train_sampler, collate_fn=collate_fn)\n",
    "val_iterator   = DataLoader(val_dataset, batch_size=BATCH_SIZE, sampler=val_sampler, collate_fn=collate_fn)\n",
    "test_iterator  = DataLoader(test_dataset, batch_size=BATCH_SIZE, sampler=test_sampler, collate_fn=collate_fn)"
   ]
  },
  {
   "cell_type": "code",
   "execution_count": null,
   "id": "pidbg12AFEIf",
   "metadata": {
    "id": "pidbg12AFEIf"
   },
   "outputs": [],
   "source": [
    "# Use this to test your collate_fn implementation.\n",
    "# You can look at the shapes of x and y or put print statements in collate_fn while running this snippet\n",
    "\n",
    "for x, y in test_iterator:\n",
    "     print(x, y)\n",
    "     print(f'x: {x.shape}')\n",
    "     print(f'y: {y.shape}')\n",
    "     break\n",
    "test_iterator = DataLoader(test_dataset, batch_size=BATCH_SIZE, sampler=test_sampler, collate_fn=collate_fn)"
   ]
  },
  {
   "cell_type": "markdown",
   "id": "BWLK7T1uFEIg",
   "metadata": {
    "id": "BWLK7T1uFEIg"
   },
   "source": [
    "### Part 2: Modeling [10 pts]\n",
    "Let's move to modeling, now that we have dataset iterators that batch our data for us. In the following code block, you'll build a feed-forward neural network implementing a neural bag-of-words baseline, NBOW-RAND, described in section 2.1 of [this paper](https://www.aclweb.org/anthology/P15-1162.pdf). You'll find [this](https://pytorch.org/docs/stable/nn.html) page useful for understanding the different layers and [this](https://pytorch.org/tutorials/beginner/nlp/sequence_models_tutorial.html) page useful for how to put them into action.\n",
    "\n",
    "The core idea behind this baseline is that after we embed each word for a document, we average the embeddings to produce a single vector that hopefully captures some general information spread across the sequence of embeddings. This means we first turn each document of length *n* into a matrix of *nxd*, where *d* is the dimension of the embedding. Then we average this matrix to produce a vector of length *d*, summarizing the contents of the document and proceed with the rest of the network. \n",
    "\n",
    "While you're working through this implementation, keep in mind how the dimensions change and what each axes represents, as documents will be passed in as minibatches requiring careful selection of which axes you apply certain operations too. You're more than welcome to experiment with the architecture of this network as well outside of the basic setup we describe below, such as adding in other layers, to see how this changes your results."
   ]
  },
  {
   "cell_type": "markdown",
   "id": "pZDPs0Sf-H3V",
   "metadata": {
    "id": "pZDPs0Sf-H3V"
   },
   "source": [
    "#### Part 2.1 Define the NBOW model class"
   ]
  },
  {
   "cell_type": "code",
   "execution_count": 42,
   "id": "jzGx2q0jLqyU",
   "metadata": {
    "id": "jzGx2q0jLqyU"
   },
   "outputs": [],
   "source": [
    "# BEGIN - DO NOT CHANGE THESE IMPORTS OR IMPORT ADDITIONAL PACKAGES.\n",
    "import torch.nn as nn\n",
    "# END - DO NOT CHANGE THESE IMPORTS OR IMPORT ADDITIONAL PACKAGES.\n",
    "\n",
    "class NBOW(nn.Module):\n",
    "    # Instantiate layers for your model-\n",
    "    # \n",
    "    # Your model architecture will be a feed-forward neural network.\n",
    "    #\n",
    "    # You'll need 3 nn.Modules at minimum\n",
    "    # 1. An embeddings layer (see nn.Embedding)\n",
    "    # 2. A linear layer (see nn.Linear)\n",
    "    # 3. A sigmoid output (see nn.Sigmoid)\n",
    "    #\n",
    "    # HINT: In the forward step, the BATCH_SIZE is the first dimension.\n",
    "    # \n",
    "    def __init__(self, vocab_size, embedding_dim):\n",
    "        super().__init__()\n",
    "        ## YOUR CODE STARTS HERE (~4 lines of code) ##\n",
    "        self.vocab_size = vocab_size \n",
    "        self.embedding = nn.Embedding(vocab_size, embedding_dim)\n",
    "        self.linear = nn.Linear(embedding_dim, 1)\n",
    "        self.sigmoid = nn.Sigmoid()\n",
    "        ## YOUR CODE ENDS HERE ##\n",
    "        \n",
    "    # Complete the forward pass of the model.\n",
    "    #\n",
    "    # Use the output of the embedding layer to create\n",
    "    # the average vector, which will be input into the \n",
    "    # linear layer.\n",
    "    # \n",
    "    # args:\n",
    "    # x - 2D LongTensor of shape (BATCH_SIZE, max len of all tokenized_word_tensor))\n",
    "    #     This is the same output that comes out of the collate_fn function you completed\n",
    "    #\n",
    "    # returns:\n",
    "    # 1D FloatTensor of shape (BATCH_SIZE)\n",
    "    def forward(self, x):\n",
    "        ## YOUR CODE STARTS HERE (~4-5 lines of code) ##\n",
    "  \n",
    "        x = self.embedding(x)\n",
    "        x = torch.mean(x, dim=1)\n",
    "        x = self.linear(x)\n",
    "        x = self.sigmoid(x)\n",
    "\n",
    "        return x\n",
    "        ## YOUR CODE ENDS HERE ##\n",
    "    "
   ]
  },
  {
   "cell_type": "markdown",
   "id": "xltosIzM-SP2",
   "metadata": {
    "id": "xltosIzM-SP2"
   },
   "source": [
    "#### Part 2.2 Initialize the NBOW classification model\n",
    "\n",
    "Since the NBOW model is rather basic, assuming you haven't added any additional layers, there's really only one hyperparameter for the model architecture: the size of the embedding dimension. \n",
    "\n",
    "The vocab_size parameter here is based on the number of unique words kept in the vocab after removing those occurring too infrequently, so this is determined by our dataset and is in turn not a true hyperparameter (though the cutoff we used previously might be). The embedding_dim parameter dictates what size vector each word can be embedded as. \n",
    "\n",
    "If you added additional linear layers to the NBOW model then the input/output dimensions of each would be considered a hyperparameter you might want to experiment with. While the sizes are constrained based on previous & following layers (the number of dimensions need to match for the matrix multiplication), whatever sequence you used could still be tweaked in various ways. \n",
    "\n",
    "A special note concerning the model initialization: We're specifically sending the model to the device set in Part 1, to speed up training if the GPU is available. **Be aware**, you'll have to ensure other tensors are on the same device inside your training and validation loops. "
   ]
  },
  {
   "cell_type": "code",
   "execution_count": 43,
   "id": "_HQWUu-ZFEIg",
   "metadata": {
    "id": "_HQWUu-ZFEIg"
   },
   "outputs": [],
   "source": [
    "model = NBOW(vocab_size    = len(train_vocab.keys()),\n",
    "             embedding_dim = 300).to(device)"
   ]
  },
  {
   "cell_type": "markdown",
   "id": "C4CZnj1f-da-",
   "metadata": {
    "id": "C4CZnj1f-da-"
   },
   "source": [
    "#### Part 2.3 Instantiate the loss function and optimizer"
   ]
  },
  {
   "cell_type": "markdown",
   "id": "9aXi8nA0FEIh",
   "metadata": {
    "id": "9aXi8nA0FEIh"
   },
   "source": [
    "In the following cell, **select and instantiate an appropriate loss function and optimizer.** \n",
    "\n",
    "Hint: we already use sigmoid in our model. What loss functions are availible for binary classification? Feel free to look at [PyTorch docs](https://pytorch.org/docs/stable/nn.html#loss-functions) for help!"
   ]
  },
  {
   "cell_type": "code",
   "execution_count": 44,
   "id": "w98UvlXxFEIh",
   "metadata": {
    "id": "w98UvlXxFEIh"
   },
   "outputs": [],
   "source": [
    "#while Adam is already imported, you can try other optimizers as well\n",
    "from torch.optim import Adam\n",
    "\n",
    "criterion, optimizer = None, None\n",
    "### YOUR CODE GOES HERE ###\n",
    "criterion = nn.BCELoss().to(device)\n",
    "optimizer = Adam(model.parameters())\n",
    "\n",
    "### YOUR CODE ENDS HERE ###"
   ]
  },
  {
   "cell_type": "markdown",
   "id": "hUXBtqPEjiRe",
   "metadata": {
    "id": "hUXBtqPEjiRe"
   },
   "source": [
    "At this point, we have a NBOW model to classify headlines as being real or fake and a loss function/optimizer to train the model using the training dataset."
   ]
  },
  {
   "cell_type": "markdown",
   "id": "bVLeTa8wFEIh",
   "metadata": {
    "id": "bVLeTa8wFEIh"
   },
   "source": [
    "### Part 3: Training and Evaluation [10 Points]\n",
    "The final part of this HW involves training the model, and evaluating it at each epoch. **Fill out the train and test loops below. Treat real headlines as False, and Onion headlines as True.**  Feel free to look at [PyTorch docs](https://pytorch.org/tutorials/beginner/introyt/trainingyt.html) for help!"
   ]
  },
  {
   "cell_type": "code",
   "execution_count": 45,
   "id": "vganx5fCFEIh",
   "metadata": {
    "id": "vganx5fCFEIh"
   },
   "outputs": [],
   "source": [
    "# returns the total loss calculated from criterion\n",
    "def train_loop(model, criterion, optim, iterator):\n",
    "    model.train()\n",
    "    total_loss = 0\n",
    "    for x, y in tqdm(iterator):\n",
    "        ### YOUR CODE STARTS HERE (~6 lines of code) ###\n",
    "      optim.zero_grad()\n",
    "      x, y = x.to(device), y.to(device)\n",
    "      output = model(x)\n",
    "      y = y.unsqueeze(1).type(torch.FloatTensor)\n",
    "      y = y.view(-1)\n",
    "      \n",
    "      loss = criterion(output.view(-1), y)\n",
    "      total_loss += loss.item()\n",
    "      loss.backward()\n",
    "      optim.step()\n",
    "\n",
    "        ### YOUR CODE ENDS HERE ###\n",
    "    return total_loss\n",
    "\n",
    "# returns:\n",
    "# - true: a Python boolean array of all the ground truth values \n",
    "#         taken from the dataset iterator\n",
    "# - pred: a Python boolean array of all model predictions. \n",
    "def val_loop(model, iterator):\n",
    "    true, pred = [], []\n",
    "    ### YOUR CODE STARTS HERE (~8 lines of code) ###\n",
    "    model.eval()\n",
    "    with torch.no_grad():\n",
    "      for x, y in iterator:\n",
    "        x = x.to(device)\n",
    "        y = y.to(device)\n",
    "      \n",
    "        prediction = model(x)\n",
    "\n",
    "        for i in range(len(prediction)):\n",
    "          true.append(y[i])\n",
    "          pred.append(prediction[i])\n",
    "    \n",
    "    true, pred = [bool(x) for x in true], [True if x > 0.5 else False for x in pred]\n",
    "    \n",
    "    ### YOUR CODE ENDS HERE ###\n",
    "    return true, pred"
   ]
  },
  {
   "cell_type": "markdown",
   "id": "JNXJevTu-tDZ",
   "metadata": {
    "id": "JNXJevTu-tDZ"
   },
   "source": [
    "#### Part 3.1 Define the evaluation metrics"
   ]
  },
  {
   "cell_type": "markdown",
   "id": "7IsZQs3rFEIi",
   "metadata": {
    "id": "7IsZQs3rFEIi"
   },
   "source": [
    "We also need evaluation metrics that tell us how well our model is doing on the validation set at each epoch and later how well the model does on the held-out test set. **Complete the functions in the following cell.** You'll find subsection 4.4.1 of Eisenstein useful for this task."
   ]
  },
  {
   "cell_type": "code",
   "execution_count": 46,
   "id": "gMQDg9Vy-wY0",
   "metadata": {
    "id": "gMQDg9Vy-wY0"
   },
   "outputs": [],
   "source": [
    "# DO NOT IMPORT ANYTHING IN THIS CELL. You shouldn't need any external libraries.\n",
    "\n",
    "# accuracy\n",
    "#\n",
    "# What fraction of classifications are correct?\n",
    "# \n",
    "# true: ground truth, Python list of booleans.\n",
    "# pred: model predictions, Python list of booleans.\n",
    "# return: accuracy bounded between [0, 1]\n",
    "#\n",
    "def accuracy(true, pred):\n",
    "    acc = None\n",
    "    ## YOUR CODE STARTS HERE (~2-5 lines of code) ##\n",
    "    temp = 0\n",
    "    for i in range(len(true)):\n",
    "      if true[i] == pred[i]:\n",
    "        temp += 1\n",
    "    acc = temp / len(true)\n",
    "    ## YOUR CODE ENDS HERE ##\n",
    "    return acc\n",
    "\n",
    "# binary_f1 \n",
    "#\n",
    "# A method to calculate F-1 scores for a binary classification task.\n",
    "# \n",
    "# args -\n",
    "# true: ground truth, Python list of booleans.\n",
    "# pred: model predictions, Python list of booleans.\n",
    "# selected_class: Boolean - the selected class the F-1 \n",
    "#                 is being calculated for.\n",
    "# \n",
    "# return: F-1 score between [0, 1]\n",
    "#\n",
    "def binary_f1(true, pred, selected_class=True):\n",
    "    f1 = None\n",
    "    ## YOUR CODE STARTS HERE (~10-15 lines of code) ##\n",
    "    TP, FP, FN = 0,0,0\n",
    "    for i in range(len(y)):\n",
    "      if selected_class:\n",
    "        if pred[i] == True and true[i] == True:\n",
    "          TP += 1\n",
    "        elif pred[i] == True and true[i] == False:\n",
    "          FP += 1\n",
    "        elif pred[i] == False and true[i] == True:\n",
    "          FN += 1\n",
    "      else:\n",
    "        if pred[i] == False and true[i] == False:\n",
    "          TP += 1\n",
    "        elif pred[i] == False and true[i] == True:\n",
    "          FP += 1\n",
    "        elif pred[i] == True and true[i] == False:\n",
    "          FN += 1\n",
    "      \n",
    "    precision = (TP)/ (TP + FP) if (TP + FP) != 0 else 0\n",
    "    recall = (TP) / (TP + FN) if (TP+FN) != 0 else 0\n",
    "\n",
    "    f1 = (2 * precision * recall) / (precision + recall) if (precision + recall) != 0 else 0\n",
    "    \n",
    "    ## YOUR CODE ENDS HERE ##\n",
    "    return f1\n",
    "\n",
    "# binary_macro_f1\n",
    "# \n",
    "# Averaged F-1 for all selected (true/false) classes.\n",
    "#\n",
    "# args -\n",
    "# true: ground truth, Python list of booleans.\n",
    "# pred: model predictions, Python list of booleans.\n",
    "#\n",
    "# return: F-1 score between [0, 1]\n",
    "#\n",
    "def binary_macro_f1(true, pred):\n",
    "    averaged_macro_f1 = None\n",
    "    ## YOUR CODE STARTS HERE (1 line of code) ##\n",
    "\n",
    "    averaged_macro_f1 = (binary_f1(true, pred, selected_class=True) + binary_f1(true, pred, selected_class=False) ) / 2\n",
    "\n",
    "    ## YOUR CODE ENDS HERE ##\n",
    "    return averaged_macro_f1"
   ]
  },
  {
   "cell_type": "code",
   "execution_count": 47,
   "id": "Yw79JFieFEIi",
   "metadata": {
    "colab": {
     "base_uri": "https://localhost:8080/"
    },
    "id": "Yw79JFieFEIi",
    "outputId": "4e2acf66-09c7-4d49-ae1f-2c1bf80f5c7d"
   },
   "outputs": [
    {
     "name": "stdout",
     "output_type": "stream",
     "text": [
      "\n",
      "Binary Macro F1: 0.6536796536796536\n",
      "Accuracy: 0.47375\n"
     ]
    }
   ],
   "source": [
    "# To test your eval implementation, let's see how well the untrained model does on our dev dataset.\n",
    "# It should do pretty poorly, but this can be random because of the initialization of the parameters of the model.\n",
    "true, pred = val_loop(model, val_iterator)\n",
    "print()\n",
    "print(f'Binary Macro F1: {binary_macro_f1(true, pred)}')\n",
    "print(f'Accuracy: {accuracy(true, pred)}')"
   ]
  },
  {
   "cell_type": "markdown",
   "id": "BerBx-T3kZtC",
   "metadata": {
    "id": "BerBx-T3kZtC"
   },
   "source": [
    "At this point, we have our datasets defined and split, our model and training tools/loops, and evaluation metrics so we can finally move on to train our model and see how it does!"
   ]
  },
  {
   "cell_type": "markdown",
   "id": "Q2to0kWVFEIi",
   "metadata": {
    "id": "Q2to0kWVFEIi"
   },
   "source": [
    "### Part 4: Actually training the model [1 point]\n",
    "Watch your model train :D You should be able to achieve a validation F-1 score of at least .8 if everything went correctly. **Feel free to adjust the number of epochs to prevent overfitting or underfitting and to play with your model hyperparameters/optimizer & loss function.**"
   ]
  },
  {
   "cell_type": "code",
   "execution_count": 48,
   "id": "N-iuqkKCFEIj",
   "metadata": {
    "colab": {
     "base_uri": "https://localhost:8080/"
    },
    "id": "N-iuqkKCFEIj",
    "outputId": "7490e3a0-f127-416a-e15a-0f0f158cf29b"
   },
   "outputs": [
    {
     "name": "stderr",
     "output_type": "stream",
     "text": [
      "100%|██████████| 1200/1200 [00:28<00:00, 41.91it/s]\n"
     ]
    },
    {
     "name": "stdout",
     "output_type": "stream",
     "text": [
      "EPOCH: 0\n",
      "TRAIN LOSS: 621.3535977900028\n",
      "VAL F-1: 0.8117647058823529\n",
      "VAL ACC: 0.8029166666666666\n"
     ]
    },
    {
     "name": "stderr",
     "output_type": "stream",
     "text": [
      "100%|██████████| 1200/1200 [00:25<00:00, 47.33it/s]\n"
     ]
    },
    {
     "name": "stdout",
     "output_type": "stream",
     "text": [
      "EPOCH: 1\n",
      "TRAIN LOSS: 404.2618123218417\n",
      "VAL F-1: 0.9307359307359306\n",
      "VAL ACC: 0.8470833333333333\n"
     ]
    },
    {
     "name": "stderr",
     "output_type": "stream",
     "text": [
      "100%|██████████| 1200/1200 [00:26<00:00, 45.64it/s]\n"
     ]
    },
    {
     "name": "stdout",
     "output_type": "stream",
     "text": [
      "EPOCH: 2\n",
      "TRAIN LOSS: 317.507138799876\n",
      "VAL F-1: 0.8750000000000001\n",
      "VAL ACC: 0.86875\n"
     ]
    },
    {
     "name": "stderr",
     "output_type": "stream",
     "text": [
      "100%|██████████| 1200/1200 [00:25<00:00, 46.52it/s]\n"
     ]
    },
    {
     "name": "stdout",
     "output_type": "stream",
     "text": [
      "EPOCH: 3\n",
      "TRAIN LOSS: 267.7854797258042\n",
      "VAL F-1: 1.0\n",
      "VAL ACC: 0.87375\n"
     ]
    },
    {
     "name": "stderr",
     "output_type": "stream",
     "text": [
      "100%|██████████| 1200/1200 [00:25<00:00, 46.56it/s]\n"
     ]
    },
    {
     "name": "stdout",
     "output_type": "stream",
     "text": [
      "EPOCH: 4\n",
      "TRAIN LOSS: 229.52585563715547\n",
      "VAL F-1: 1.0\n",
      "VAL ACC: 0.8741666666666666\n"
     ]
    },
    {
     "name": "stderr",
     "output_type": "stream",
     "text": [
      "100%|██████████| 1200/1200 [00:25<00:00, 46.34it/s]\n"
     ]
    },
    {
     "name": "stdout",
     "output_type": "stream",
     "text": [
      "EPOCH: 5\n",
      "TRAIN LOSS: 201.60878435894847\n",
      "VAL F-1: 0.9227053140096619\n",
      "VAL ACC: 0.8695833333333334\n"
     ]
    },
    {
     "name": "stderr",
     "output_type": "stream",
     "text": [
      "100%|██████████| 1200/1200 [00:25<00:00, 46.27it/s]\n"
     ]
    },
    {
     "name": "stdout",
     "output_type": "stream",
     "text": [
      "EPOCH: 6\n",
      "TRAIN LOSS: 179.70399675681256\n",
      "VAL F-1: 0.873015873015873\n",
      "VAL ACC: 0.8716666666666667\n"
     ]
    },
    {
     "name": "stderr",
     "output_type": "stream",
     "text": [
      "100%|██████████| 1200/1200 [00:25<00:00, 46.19it/s]\n"
     ]
    },
    {
     "name": "stdout",
     "output_type": "stream",
     "text": [
      "EPOCH: 7\n",
      "TRAIN LOSS: 159.79394772765227\n",
      "VAL F-1: 0.8666666666666667\n",
      "VAL ACC: 0.8691666666666666\n"
     ]
    },
    {
     "name": "stderr",
     "output_type": "stream",
     "text": [
      "100%|██████████| 1200/1200 [00:25<00:00, 47.59it/s]\n"
     ]
    },
    {
     "name": "stdout",
     "output_type": "stream",
     "text": [
      "EPOCH: 8\n",
      "TRAIN LOSS: 144.23773012659512\n",
      "VAL F-1: 0.7257142857142858\n",
      "VAL ACC: 0.8679166666666667\n"
     ]
    },
    {
     "name": "stderr",
     "output_type": "stream",
     "text": [
      "100%|██████████| 1200/1200 [00:25<00:00, 46.69it/s]\n"
     ]
    },
    {
     "name": "stdout",
     "output_type": "stream",
     "text": [
      "EPOCH: 9\n",
      "TRAIN LOSS: 130.97401366895065\n",
      "VAL F-1: 1.0\n",
      "VAL ACC: 0.8625\n"
     ]
    }
   ],
   "source": [
    "TOTAL_EPOCHS = 10\n",
    "for epoch in range(TOTAL_EPOCHS):\n",
    "    train_loss = train_loop(model, criterion, optimizer, train_iterator)\n",
    "    true, pred = val_loop(model, val_iterator)\n",
    "    print(f\"EPOCH: {epoch}\")\n",
    "    print(f\"TRAIN LOSS: {train_loss}\")\n",
    "    print(f\"VAL F-1: {binary_macro_f1(true, pred)}\")\n",
    "    print(f\"VAL ACC: {accuracy(true, pred)}\")"
   ]
  },
  {
   "cell_type": "markdown",
   "id": "_l91F4ooFEIj",
   "metadata": {
    "id": "_l91F4ooFEIj"
   },
   "source": [
    "We can also look at the models performance on the held-out test set, using the same val_loop we wrote earlier."
   ]
  },
  {
   "cell_type": "code",
   "execution_count": 63,
   "id": "vs8Fy_ncFEIo",
   "metadata": {
    "colab": {
     "base_uri": "https://localhost:8080/"
    },
    "id": "vs8Fy_ncFEIo",
    "outputId": "179d6fdc-c269-4b87-da16-efb02d51c999"
   },
   "outputs": [
    {
     "name": "stdout",
     "output_type": "stream",
     "text": [
      "\n",
      "TEST F-1: 0.873015873015873\n",
      "TEST ACC: 0.8579166666666667\n"
     ]
    }
   ],
   "source": [
    "true, pred = val_loop(model, test_iterator)\n",
    "print()\n",
    "print(f\"TEST F-1: {binary_macro_f1(true, pred)}\")\n",
    "print(f\"TEST ACC: {accuracy(true, pred)}\")"
   ]
  },
  {
   "cell_type": "markdown",
   "id": "rMPWmorEFEIp",
   "metadata": {
    "id": "rMPWmorEFEIp"
   },
   "source": [
    "### Part 5: Analysis [5 points]\n",
    "Answer the following questions:\n",
    "\n"
   ]
  },
  {
   "cell_type": "markdown",
   "id": "fnjKlKt352hQ",
   "metadata": {
    "id": "fnjKlKt352hQ"
   },
   "source": [
    "#### 1. What happens to the vocab size as you change the cutoff in the cell below? Can you explain this in the context of [Zipf's Law](https://en.wikipedia.org/wiki/Zipf%27s_law)?\n",
    "\n",
    "Answer: As we increase the value of cutoff the vocab_map length is smaller. Zipf's law states that the frequency of a word is inversely proportional to its rank. In other words, we can interpret it as the idea that a small set of frequently used words in every day langauge appears very frequently in the vocab, and a larger set of less common words appears rarely. When we are increasing the cutoff, we are asking to include in the vocabulary only words that appear at least \"cutoff\" times, which means, as suggested by Zipf's law, that we risk to include in the vocabulary only common words with a high frequency and leave out less common words that might contain important pieces of information for the model to learn. "
   ]
  },
  {
   "cell_type": "code",
   "execution_count": 50,
   "id": "pI0fM4oMFEIp",
   "metadata": {
    "colab": {
     "base_uri": "https://localhost:8080/"
    },
    "id": "pI0fM4oMFEIp",
    "outputId": "470acba9-55fa-401d-afc5-b337b60a2092"
   },
   "outputs": [
    {
     "data": {
      "text/plain": [
       "3318"
      ]
     },
     "execution_count": 50,
     "metadata": {},
     "output_type": "execute_result"
    }
   ],
   "source": [
    "tmp_vocab, _ = generate_vocab_map(train_df, cutoff = 10)\n",
    "len(tmp_vocab)"
   ]
  },
  {
   "cell_type": "markdown",
   "id": "d0x54B1lFEIp",
   "metadata": {
    "id": "d0x54B1lFEIp"
   },
   "source": [
    "#### 2. Can you describe what cases the model is getting wrong in the witheld test-set? \n",
    "\n",
    "Answer: In the following loop, we return the list of tokens for each misclassified article. After printing the sequences, we can notice that the model tends to misclassify an observation when the sequence contains either a lot of UNK values or padding values (that is, when in the tokenized sequence we inserted the padding value to create the batch tensor, whose length was the maximum length of all the headlines in the batch). The model, then, probably finds it more difficult to analyze those observations, as it might interpret them as missing values. For example, let's take the second printed sequence below: ```\n",
    "['physicists', 'host', 'kavanaugh', 'airport', 'clear','second', 'it','begins', 'francis', 'north','pet','eyeballs','annual','but','','','','','','','', '','','','','','','','','','','']```, after some initial tokens, the sequence presents 18 padding values, which might lead the model to misclassify it."
   ]
  },
  {
   "cell_type": "markdown",
   "id": "_yiIZov-583w",
   "metadata": {
    "id": "_yiIZov-583w"
   },
   "source": [
    "To do this, you'll need to create a new val_train_loop (``val_train_loop_incorrect``) so it returns incorrect sequences **and** you'll need to decode these sequences back into words. \n",
    "Thankfully, you've already created a map that can convert encoded sequences back to regular English: you will find the ``reverse_vocab`` variable useful.\n",
    "\n",
    "```\n",
    "# i.e. using a reversed map of {\"hi\": 2, \"hello\": 3, \"UNK\": 0}\n",
    "# we can turn [2, 3, 0] into this => [\"hi\", \"hello\", \"UNK\"]\n",
    "```"
   ]
  },
  {
   "cell_type": "code",
   "execution_count": 51,
   "id": "TfohtPF8FEIp",
   "metadata": {
    "id": "TfohtPF8FEIp"
   },
   "outputs": [],
   "source": [
    "# Implement this however you like! It should look very similar to val_loop.\n",
    "# Pass the test_iterator through this function to look at errors in the test set.\n",
    "def val_train_loop_incorrect(model, iterator):\n",
    "  sequence = []\n",
    "  true, pred = val_loop(model, iterator)\n",
    "  \n",
    "  vocab, reverse_vocab = generate_vocab_map(df)\n",
    "  for x, y in iterator:\n",
    "    for i in range(len(y)):\n",
    "      if true[i] != pred[i]:\n",
    "        lis = []\n",
    "        for item in x[i]:\n",
    "          j = reverse_vocab[int(item)]\n",
    "          lis.append(j) \n",
    "        sequence.append(lis)\n",
    "\n",
    "  return sequence \n"
   ]
  },
  {
   "cell_type": "code",
   "execution_count": null,
   "id": "6-azPje88iU0",
   "metadata": {
    "id": "6-azPje88iU0"
   },
   "outputs": [],
   "source": [
    "val_train_loop_incorrect(model, test_iterator)\n"
   ]
  },
  {
   "cell_type": "markdown",
   "id": "Ie9VqRbg78Ty",
   "metadata": {
    "id": "Ie9VqRbg78Ty"
   },
   "source": [
    "### Part 6: LSTM Model [Extra-Credit, 4 points]"
   ]
  },
  {
   "cell_type": "markdown",
   "id": "gXWSfPfBA4XU",
   "metadata": {
    "id": "gXWSfPfBA4XU"
   },
   "source": [
    "#### Part 6.1 Define the RecurrentModel class\n",
    "Something that has been overlooked so far in this project is the sequential structure to language: a word typically only has a clear meaning because of its relationship to the words before and after it in the sequence, and the feed-forward network of Part 2 cannot model this type of data. A solution to this, is the use of [recurrent neural networks](https://colah.github.io/posts/2015-08-Understanding-LSTMs/). These types of networks not only produce some output given some step from a sequence, but also update their internal state, hopefully \"remembering\" some information about the previous steps in the input sequence. Of course, they do have their own faults, but we'll cover this more thoroughly later in the semester. \n",
    "\n",
    "Your task for the extra credit portion of this assignment, is to implement such a model below using a LSTM. Instead of averaging the embeddings as with the FFN in Part 2, you'll instead feed all of these embeddings to a LSTM layer, get its final output, and use this to make your prediction for the class of the headline. "
   ]
  },
  {
   "cell_type": "code",
   "execution_count": 53,
   "id": "YN8zvhLJ-MVJ",
   "metadata": {
    "id": "YN8zvhLJ-MVJ"
   },
   "outputs": [],
   "source": [
    "class RecurrentModel(nn.Module):\n",
    "    # Instantiate layers for your model-\n",
    "    # \n",
    "    # Your model architecture will be an optionally bidirectional LSTM,\n",
    "    # followed by a linear + sigmoid layer.\n",
    "    #\n",
    "    # You'll need 4 nn.Modules\n",
    "    # 1. An embeddings layer (see nn.Embedding)\n",
    "    # 2. A bidirectional LSTM (see nn.LSTM)\n",
    "    # 3. A Linear layer (see nn.Linear)\n",
    "    # 4. A sigmoid output (see nn.Sigmoid)\n",
    "    #\n",
    "    # HINT: In the forward step, the BATCH_SIZE is the first dimension.\n",
    "    # HINT: Think about what happens to the linear layer's hidden_dim size\n",
    "    #       if bidirectional is True or False.\n",
    "    # \n",
    "    def __init__(self, vocab_size, embedding_dim, hidden_dim, \\\n",
    "                 num_layers=1, bidirectional=True):\n",
    "        super().__init__()\n",
    "        ## YOUR CODE STARTS HERE (~4 lines of code) ##\n",
    "        self.hidden = hidden_dim\n",
    "        if bidirectional:\n",
    "          self.hidden *= 2\n",
    "\n",
    "        self.embedding = nn.Embedding(vocab_size, embedding_dim)\n",
    "        self.lstm = nn.LSTM(embedding_dim, self.hidden, batch_first=True, num_layers=num_layers)\n",
    "        \n",
    "        self.linear = nn.Linear(self.hidden, 1)\n",
    "        self.sigmoid = nn.Sigmoid()\n",
    "\n",
    "        ## YOUR CODE ENDS HERE ##\n",
    "        \n",
    "    # Complete the forward pass of the model.\n",
    "    #\n",
    "    # Use the last timestep of the output of the LSTM as input\n",
    "    # to the linear layer. This will only require some indexing \n",
    "    # into the correct return from the LSTM layer. \n",
    "    # \n",
    "    # args:\n",
    "    # x - 2D LongTensor of shape (BATCH_SIZE, max len of all tokenized_word_tensor))\n",
    "    #     This is the same output that comes out of the collate_fn function you completed-\n",
    "    #\n",
    "    # returns:\n",
    "    # 1D FloatTensor of shape (BATCH_SIZE)\n",
    "    def forward(self, x):\n",
    "        ## YOUR CODE STARTS HERE (~4-5 lines of code) ##\n",
    "        emb = self.embedding(x) ## create word embeddings from the input\n",
    "        self.lstm.flatten_parameters() ## cuda\n",
    "        lstm_out, (hidden, c) = self.lstm(emb) ## apply the lstm layer\n",
    "        out = self.linear(hidden[-1]) ## pass to the linear layer only the last hidden state of the lstm\n",
    "        out = self.sigmoid(out)\n",
    "        return out\n",
    "        ## YOUR CODE ENDS HERE ##\n",
    "    "
   ]
  },
  {
   "cell_type": "markdown",
   "id": "HprkOm-fAVyj",
   "metadata": {
    "id": "HprkOm-fAVyj"
   },
   "source": [
    "Now that the RecurrentModel is defined, we'll reinitialize our dataset iterators so they're back at the start. "
   ]
  },
  {
   "cell_type": "code",
   "execution_count": 54,
   "id": "6-uftfXEAqOi",
   "metadata": {
    "id": "6-uftfXEAqOi"
   },
   "outputs": [],
   "source": [
    "train_iterator = DataLoader(train_dataset, batch_size=BATCH_SIZE, sampler=train_sampler, collate_fn=collate_fn)\n",
    "val_iterator   = DataLoader(val_dataset, batch_size=BATCH_SIZE, sampler=val_sampler, collate_fn=collate_fn)\n",
    "test_iterator  = DataLoader(test_dataset, batch_size=BATCH_SIZE, sampler=test_sampler, collate_fn=collate_fn)"
   ]
  },
  {
   "cell_type": "markdown",
   "id": "2qROtRw3AtZy",
   "metadata": {
    "id": "2qROtRw3AtZy"
   },
   "source": [
    "#### Part 6.2 Initialize the LSTM classification model\n",
    "\n",
    "Next we need to initialize our new model, as well as define it's optimizer and loss function as we did for the FFN. Feel free to use the same optimizer you did above, or see how this model reacts to different optimizers/learning rates than the FFN.  "
   ]
  },
  {
   "cell_type": "code",
   "execution_count": 55,
   "id": "LNWcLJpsBRzg",
   "metadata": {
    "id": "LNWcLJpsBRzg"
   },
   "outputs": [],
   "source": [
    "lstm_model = RecurrentModel(vocab_size    = len(train_vocab.keys()),\n",
    "                            embedding_dim = 300,\n",
    "                            hidden_dim    = 300,\n",
    "                            num_layers    = 1,\n",
    "                            bidirectional = True).to(device)"
   ]
  },
  {
   "cell_type": "code",
   "execution_count": 56,
   "id": "OdTxe0bFBqnP",
   "metadata": {
    "id": "OdTxe0bFBqnP"
   },
   "outputs": [],
   "source": [
    "lstm_criterion, lstm_optimizer = None, None\n",
    "### YOUR CODE STARTS HERE ###\n",
    "lstm_criterion = nn.BCELoss().to(device)\n",
    "lstm_optimizer = Adam(lstm_model.parameters())\n",
    "\n",
    "### YOUR CODE ENDS HERE ###"
   ]
  },
  {
   "cell_type": "markdown",
   "id": "NFvV7H7OBzWl",
   "metadata": {
    "id": "NFvV7H7OBzWl"
   },
   "source": [
    "#### Part 6.3 Training and Evaluation\n",
    "\n",
    "Because the only difference between this model and the FFN is the internal structure, we can use the same methods as above to evaluate and train it. You should be able to achieve a validation F-1 score of at least .8 if everything went correctly. **Feel free to adjust the number of epochs to prevent overfitting or underfitting and to play with your model hyperparameters/optimizer & loss function.**"
   ]
  },
  {
   "cell_type": "code",
   "execution_count": 57,
   "id": "SdkEpedxDopv",
   "metadata": {
    "colab": {
     "base_uri": "https://localhost:8080/"
    },
    "id": "SdkEpedxDopv",
    "outputId": "8755bc55-fd6f-473c-fb4e-6d1e8fd006ec"
   },
   "outputs": [
    {
     "name": "stdout",
     "output_type": "stream",
     "text": [
      "\n",
      "Binary Macro F1: 0.3333333333333333\n",
      "Accuracy: 0.605\n"
     ]
    }
   ],
   "source": [
    "#Pre-training to see what accuracy we can get with random parameters\n",
    "true, pred = val_loop(lstm_model, val_iterator)\n",
    "print()\n",
    "print(f'Binary Macro F1: {binary_macro_f1(true, pred)}')\n",
    "print(f'Accuracy: {accuracy(true, pred)}')"
   ]
  },
  {
   "cell_type": "code",
   "execution_count": 58,
   "id": "6p2dF9X4DyIR",
   "metadata": {
    "colab": {
     "base_uri": "https://localhost:8080/"
    },
    "id": "6p2dF9X4DyIR",
    "outputId": "3df2d98b-ed34-41cc-bf35-a44a8cb53904"
   },
   "outputs": [
    {
     "metadata": {
      "tags": null
     },
     "name": "stderr",
     "output_type": "stream",
     "text": [
      "100%|██████████| 1200/1200 [02:44<00:00,  7.29it/s]\n"
     ]
    },
    {
     "metadata": {
      "tags": null
     },
     "name": "stdout",
     "output_type": "stream",
     "text": [
      "EPOCH: 0\n",
      "TRAIN LOSS: 647.5577383860946\n",
      "VAL F-1: 0.746031746031746\n",
      "VAL ACC: 0.82375\n"
     ]
    },
    {
     "metadata": {
      "tags": null
     },
     "name": "stderr",
     "output_type": "stream",
     "text": [
      "100%|██████████| 1200/1200 [02:42<00:00,  7.38it/s]\n"
     ]
    },
    {
     "metadata": {
      "tags": null
     },
     "name": "stdout",
     "output_type": "stream",
     "text": [
      "EPOCH: 1\n",
      "TRAIN LOSS: 339.3851695097983\n",
      "VAL F-1: 0.8117647058823529\n",
      "VAL ACC: 0.8495833333333334\n"
     ]
    },
    {
     "name": "stderr",
     "output_type": "stream",
     "text": [
      "100%|██████████| 1200/1200 [02:39<00:00,  7.50it/s]\n"
     ]
    },
    {
     "name": "stdout",
     "output_type": "stream",
     "text": [
      "EPOCH: 2\n",
      "TRAIN LOSS: 190.47813675459474\n",
      "VAL F-1: 0.8750000000000001\n",
      "VAL ACC: 0.8629166666666667\n"
     ]
    },
    {
     "name": "stderr",
     "output_type": "stream",
     "text": [
      "100%|██████████| 1200/1200 [02:39<00:00,  7.52it/s]\n"
     ]
    },
    {
     "name": "stdout",
     "output_type": "stream",
     "text": [
      "EPOCH: 3\n",
      "TRAIN LOSS: 96.78661232278682\n",
      "VAL F-1: 1.0\n",
      "VAL ACC: 0.8608333333333333\n"
     ]
    },
    {
     "name": "stderr",
     "output_type": "stream",
     "text": [
      "100%|██████████| 1200/1200 [02:37<00:00,  7.64it/s]\n"
     ]
    },
    {
     "name": "stdout",
     "output_type": "stream",
     "text": [
      "EPOCH: 4\n",
      "TRAIN LOSS: 46.71001689491095\n",
      "VAL F-1: 0.6761133603238865\n",
      "VAL ACC: 0.8629166666666667\n"
     ]
    },
    {
     "name": "stderr",
     "output_type": "stream",
     "text": [
      "100%|██████████| 1200/1200 [02:37<00:00,  7.62it/s]\n"
     ]
    },
    {
     "name": "stdout",
     "output_type": "stream",
     "text": [
      "EPOCH: 5\n",
      "TRAIN LOSS: 36.530090725427726\n",
      "VAL F-1: 0.9372549019607843\n",
      "VAL ACC: 0.86\n"
     ]
    },
    {
     "name": "stderr",
     "output_type": "stream",
     "text": [
      "100%|██████████| 1200/1200 [02:35<00:00,  7.72it/s]\n"
     ]
    },
    {
     "name": "stdout",
     "output_type": "stream",
     "text": [
      "EPOCH: 6\n",
      "TRAIN LOSS: 22.138182480048272\n",
      "VAL F-1: 0.8814814814814815\n",
      "VAL ACC: 0.86625\n"
     ]
    },
    {
     "name": "stderr",
     "output_type": "stream",
     "text": [
      "100%|██████████| 1200/1200 [02:36<00:00,  7.69it/s]\n"
     ]
    },
    {
     "name": "stdout",
     "output_type": "stream",
     "text": [
      "EPOCH: 7\n",
      "TRAIN LOSS: 13.559817511242727\n",
      "VAL F-1: 0.9307359307359306\n",
      "VAL ACC: 0.8608333333333333\n"
     ]
    },
    {
     "name": "stderr",
     "output_type": "stream",
     "text": [
      "100%|██████████| 1200/1200 [02:35<00:00,  7.74it/s]\n"
     ]
    },
    {
     "name": "stdout",
     "output_type": "stream",
     "text": [
      "EPOCH: 8\n",
      "TRAIN LOSS: 13.038354129303116\n",
      "VAL F-1: 0.8056680161943319\n",
      "VAL ACC: 0.8554166666666667\n"
     ]
    },
    {
     "name": "stderr",
     "output_type": "stream",
     "text": [
      "100%|██████████| 1200/1200 [02:37<00:00,  7.61it/s]\n"
     ]
    },
    {
     "name": "stdout",
     "output_type": "stream",
     "text": [
      "EPOCH: 9\n",
      "TRAIN LOSS: 14.90700947073492\n",
      "VAL F-1: 0.9352226720647774\n",
      "VAL ACC: 0.8575\n"
     ]
    }
   ],
   "source": [
    "#Watch the model train!\n",
    "TOTAL_EPOCHS = 10\n",
    "for epoch in range(TOTAL_EPOCHS):\n",
    "    train_loss = train_loop(lstm_model, lstm_criterion, lstm_optimizer, train_iterator)\n",
    "    true, pred = val_loop(lstm_model, val_iterator)\n",
    "    print(f\"EPOCH: {epoch}\")\n",
    "    print(f\"TRAIN LOSS: {train_loss}\")\n",
    "    print(f\"VAL F-1: {binary_macro_f1(true, pred)}\")\n",
    "    print(f\"VAL ACC: {accuracy(true, pred)}\")"
   ]
  },
  {
   "cell_type": "code",
   "execution_count": 59,
   "id": "OR8Dl5DLEQwd",
   "metadata": {
    "colab": {
     "base_uri": "https://localhost:8080/"
    },
    "id": "OR8Dl5DLEQwd",
    "outputId": "3f081020-0b87-4e7c-d289-70418689900f"
   },
   "outputs": [
    {
     "name": "stdout",
     "output_type": "stream",
     "text": [
      "\n",
      "TEST F-1: 0.9227053140096619\n",
      "TEST ACC: 0.8583333333333333\n"
     ]
    }
   ],
   "source": [
    "#See how your model does on the held out data\n",
    "true, pred = val_loop(lstm_model, test_iterator)\n",
    "print()\n",
    "print(f\"TEST F-1: {binary_macro_f1(true, pred)}\")\n",
    "print(f\"TEST ACC: {accuracy(true, pred)}\")"
   ]
  },
  {
   "cell_type": "markdown",
   "id": "mY8S9ZK9zuVs",
   "metadata": {
    "id": "mY8S9ZK9zuVs"
   },
   "source": [
    "### Part 7: Submit Your Homework\n",
    "This is the end. Congratulations!  \n",
    "\n",
    "Now, follow the steps below to submit your homework in [Gradescope](https://www.gradescope.com/courses/345683):\n",
    "\n",
    "1. Rename this ipynb file to 'CS4650_p1_GTusername.ipynb'. We recommend ensuring you have removed any extraneous cells & print statements, clearing all outputs, and using the Runtime --> Run all tool to make sure all output is update to date. Additionally, leaving comments in your code to help us understand your operations will assist the teaching staff in grading. It is not a requirement, but is recommended. \n",
    "2. Click on the menu 'File' --> 'Download' --> 'Download .py'.\n",
    "3. Click on the menu 'File' --> 'Download' --> 'Download .ipynb'.\n",
    "4. Download the notebook as a .pdf document. Make sure the output from Parts 4 & 6.3 are captured so we can see how the loss, F1, & accuracy changes while training.\n",
    "5. Upload all 3 files to GradeScope.\n"
   ]
  }
 ],
 "metadata": {
  "colab": {
   "machine_shape": "hm",
   "provenance": []
  },
  "gpuClass": "standard",
  "kernelspec": {
   "display_name": "Python 3 (ipykernel)",
   "language": "python",
   "name": "python3"
  },
  "language_info": {
   "codemirror_mode": {
    "name": "ipython",
    "version": 3
   },
   "file_extension": ".py",
   "mimetype": "text/x-python",
   "name": "python",
   "nbconvert_exporter": "python",
   "pygments_lexer": "ipython3",
   "version": "3.10.6"
  }
 },
 "nbformat": 4,
 "nbformat_minor": 5
}
